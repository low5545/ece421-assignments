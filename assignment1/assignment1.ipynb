{
 "cells": [
  {
   "cell_type": "markdown",
   "metadata": {},
   "source": [
    "# ECE421 Assignment 1: Linear and Logistic Regression\n",
    "\n",
    "### Group Members\n",
    "1. Low Weng Fei (1005644705)\n",
    "2. Hema Rajesh Nadella ()\n",
    "\n",
    "---\n",
    "\n",
    "## 1.    Linear Regression\n"
   ]
  },
  {
   "cell_type": "code",
   "execution_count": 5,
   "metadata": {},
   "outputs": [],
   "source": [
    "import tensorflow as tf\n",
    "import numpy as np\n",
    "import matplotlib.pyplot as plt\n",
    "\n",
    "def loadData():\n",
    "    with np.load('notMNIST.npz') as data :\n",
    "        Data, Target = data ['images'], data['labels']\n",
    "        posClass = 2\n",
    "        negClass = 9\n",
    "        dataIndx = (Target==posClass) + (Target==negClass)\n",
    "        Data = Data[dataIndx]/255.\n",
    "        Target = Target[dataIndx].reshape(-1, 1)\n",
    "        Target[Target==posClass] = 1\n",
    "        Target[Target==negClass] = 0\n",
    "        np.random.seed(421)\n",
    "        randIndx = np.arange(len(Data))\n",
    "        np.random.shuffle(randIndx)\n",
    "        Data, Target = Data[randIndx], Target[randIndx]\n",
    "        trainData, trainTarget = Data[:3500], Target[:3500]\n",
    "        validData, validTarget = Data[3500:3600], Target[3500:3600]\n",
    "        testData, testTarget = Data[3600:], Target[3600:]\n",
    "    return trainData, validData, testData, trainTarget, validTarget, testTarget\n",
    "\n",
    "def MSE(W, b, x, y, reg):\n",
    "    # Your implementation here\n",
    "    pass\n",
    "\n",
    "def gradMSE(W, b, x, y, reg):\n",
    "    # Your implementation here\n",
    "    pass\n",
    "\n",
    "def crossEntropyLoss(W, b, x, y, reg):\n",
    "    # Your implementation here\n",
    "    pass\n",
    "\n",
    "def gradCE(W, b, x, y, reg):\n",
    "    # Your implementation here\n",
    "    pass\n",
    "\n",
    "def grad_descent(W, b, trainingData, trainingLabels, alpha, iterations, reg, EPS):\n",
    "    # Your implementation here\n",
    "    pass\n",
    "\n",
    "def buildGraph(beta1=None, beta2=None, epsilon=None, lossType=None, learning_rate=None):\n",
    "    # Your implementation here\n",
    "    pass"
   ]
  },
  {
   "cell_type": "code",
   "execution_count": null,
   "metadata": {},
   "outputs": [],
   "source": []
  }
 ],
 "metadata": {
  "kernelspec": {
   "display_name": "Python 3",
   "language": "python",
   "name": "python3"
  },
  "language_info": {
   "codemirror_mode": {
    "name": "ipython",
    "version": 3
   },
   "file_extension": ".py",
   "mimetype": "text/x-python",
   "name": "python",
   "nbconvert_exporter": "python",
   "pygments_lexer": "ipython3",
   "version": "3.6.8"
  }
 },
 "nbformat": 4,
 "nbformat_minor": 2
}
